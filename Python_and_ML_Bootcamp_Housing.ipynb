{
  "cells": [
    {
      "cell_type": "markdown",
      "metadata": {
        "id": "svpH-ImeogTk"
      },
      "source": [
        "# Importing the libraries"
      ]
    },
    {
      "cell_type": "code",
      "execution_count": 1,
      "metadata": {
        "id": "w0zwZg1UlGPO"
      },
      "outputs": [],
      "source": [
        "import numpy as np\n",
        "import pandas as pd # Data Manipulation, Data Cleaning, Data Exploration, Data Visualization\n",
        "# import matplotlib.pyplot as plt\n",
        "# import seaborn as sns\n",
        "from sklearn.linear_model import LinearRegression\n",
        "from sklearn.metrics import r2_score\n",
        "from sklearn.model_selection import train_test_split"
      ]
    },
    {
      "cell_type": "markdown",
      "metadata": {
        "id": "yu1Q-9mGrK7f"
      },
      "source": [
        "# Import the dataset"
      ]
    },
    {
      "cell_type": "code",
      "execution_count": null,
      "metadata": {
        "id": "L8wY4BplpPXR"
      },
      "outputs": [],
      "source": [
        "from google.colab import drive\n",
        "drive.mount('/content/drive')"
      ]
    },
    {
      "cell_type": "code",
      "execution_count": 2,
      "metadata": {
        "id": "VqOk-XHUW5XA"
      },
      "outputs": [],
      "source": [
        "#df = pd.read_csv(\"/content/drive/MyDrive/Colab Notebooks/datasets/Housing.csv\")\n",
        "df = pd.read_csv(\"Housing.csv\")"
      ]
    },
    {
      "cell_type": "markdown",
      "metadata": {
        "id": "BMiGrQxl_cuL"
      },
      "source": [
        "## data cleaning"
      ]
    },
    {
      "cell_type": "code",
      "execution_count": 3,
      "metadata": {
        "colab": {
          "base_uri": "https://localhost:8080/"
        },
        "id": "hjoS9PTUrl6A",
        "outputId": "78655320-d7a2-4a67-ced3-e52cc3f392cc"
      },
      "outputs": [
        {
          "name": "stdout",
          "output_type": "stream",
          "text": [
            "price               int64\n",
            "area                int64\n",
            "bedrooms            int64\n",
            "bathrooms           int64\n",
            "stories             int64\n",
            "mainroad             bool\n",
            "guestroom            bool\n",
            "basement             bool\n",
            "hotwaterheating      bool\n",
            "airconditioning      bool\n",
            "parking             int64\n",
            "prefarea             bool\n",
            "furnishingstatus    int32\n",
            "dtype: object\n"
          ]
        }
      ],
      "source": [
        "                                                          \n",
        "df= df.replace({'furnishingstatus':{'unfurnished' : 0, 'semi-furnished' : 1, 'furnished' : 2 }\n",
        "               ,'mainroad'       :{'yes' : 1, 'no' : 0}\n",
        "               ,'guestroom'      :{'yes' : 1, 'no' : 0}\n",
        "               ,'basement'       :{'yes' : 1, 'no' : 0}\n",
        "               ,'hotwaterheating':{'yes' : 1, 'no' : 0}\n",
        "               ,'airconditioning':{'yes' : 1, 'no' : 0}\n",
        "               ,'prefarea'       :{'yes' : 1, 'no' : 0}\n",
        "               })\n",
        "\n",
        "convert_dict ={'furnishingstatus': int \n",
        "               ,'mainroad': bool\n",
        "               ,'guestroom': bool\n",
        "               ,'basement': bool\n",
        "               ,'hotwaterheating': bool\n",
        "               ,'airconditioning': bool\n",
        "               ,'prefarea': bool}\n",
        "\n",
        "df = df.astype(convert_dict)\n",
        "print(df.dtypes)                                                                                         \n"
      ]
    },
    {
      "cell_type": "code",
      "execution_count": 4,
      "metadata": {
        "colab": {
          "base_uri": "https://localhost:8080/",
          "height": 468
        },
        "id": "DQ0Abc98lGTf",
        "outputId": "dbdbcdc3-ed92-40af-c1e5-73617fa3961e"
      },
      "outputs": [
        {
          "data": {
            "text/html": [
              "<div>\n",
              "<style scoped>\n",
              "    .dataframe tbody tr th:only-of-type {\n",
              "        vertical-align: middle;\n",
              "    }\n",
              "\n",
              "    .dataframe tbody tr th {\n",
              "        vertical-align: top;\n",
              "    }\n",
              "\n",
              "    .dataframe thead th {\n",
              "        text-align: right;\n",
              "    }\n",
              "</style>\n",
              "<table border=\"1\" class=\"dataframe\">\n",
              "  <thead>\n",
              "    <tr style=\"text-align: right;\">\n",
              "      <th></th>\n",
              "      <th>price</th>\n",
              "      <th>area</th>\n",
              "      <th>bedrooms</th>\n",
              "      <th>bathrooms</th>\n",
              "      <th>stories</th>\n",
              "      <th>mainroad</th>\n",
              "      <th>guestroom</th>\n",
              "      <th>basement</th>\n",
              "      <th>hotwaterheating</th>\n",
              "      <th>airconditioning</th>\n",
              "      <th>parking</th>\n",
              "      <th>prefarea</th>\n",
              "      <th>furnishingstatus</th>\n",
              "    </tr>\n",
              "  </thead>\n",
              "  <tbody>\n",
              "    <tr>\n",
              "      <th>0</th>\n",
              "      <td>13300000</td>\n",
              "      <td>7420</td>\n",
              "      <td>4</td>\n",
              "      <td>2</td>\n",
              "      <td>3</td>\n",
              "      <td>True</td>\n",
              "      <td>False</td>\n",
              "      <td>False</td>\n",
              "      <td>False</td>\n",
              "      <td>True</td>\n",
              "      <td>2</td>\n",
              "      <td>True</td>\n",
              "      <td>2</td>\n",
              "    </tr>\n",
              "    <tr>\n",
              "      <th>1</th>\n",
              "      <td>12250000</td>\n",
              "      <td>8960</td>\n",
              "      <td>4</td>\n",
              "      <td>4</td>\n",
              "      <td>4</td>\n",
              "      <td>True</td>\n",
              "      <td>False</td>\n",
              "      <td>False</td>\n",
              "      <td>False</td>\n",
              "      <td>True</td>\n",
              "      <td>3</td>\n",
              "      <td>False</td>\n",
              "      <td>2</td>\n",
              "    </tr>\n",
              "    <tr>\n",
              "      <th>2</th>\n",
              "      <td>12250000</td>\n",
              "      <td>9960</td>\n",
              "      <td>3</td>\n",
              "      <td>2</td>\n",
              "      <td>2</td>\n",
              "      <td>True</td>\n",
              "      <td>False</td>\n",
              "      <td>True</td>\n",
              "      <td>False</td>\n",
              "      <td>False</td>\n",
              "      <td>2</td>\n",
              "      <td>True</td>\n",
              "      <td>1</td>\n",
              "    </tr>\n",
              "    <tr>\n",
              "      <th>3</th>\n",
              "      <td>12215000</td>\n",
              "      <td>7500</td>\n",
              "      <td>4</td>\n",
              "      <td>2</td>\n",
              "      <td>2</td>\n",
              "      <td>True</td>\n",
              "      <td>False</td>\n",
              "      <td>True</td>\n",
              "      <td>False</td>\n",
              "      <td>True</td>\n",
              "      <td>3</td>\n",
              "      <td>True</td>\n",
              "      <td>2</td>\n",
              "    </tr>\n",
              "    <tr>\n",
              "      <th>4</th>\n",
              "      <td>11410000</td>\n",
              "      <td>7420</td>\n",
              "      <td>4</td>\n",
              "      <td>1</td>\n",
              "      <td>2</td>\n",
              "      <td>True</td>\n",
              "      <td>True</td>\n",
              "      <td>True</td>\n",
              "      <td>False</td>\n",
              "      <td>True</td>\n",
              "      <td>2</td>\n",
              "      <td>False</td>\n",
              "      <td>2</td>\n",
              "    </tr>\n",
              "    <tr>\n",
              "      <th>...</th>\n",
              "      <td>...</td>\n",
              "      <td>...</td>\n",
              "      <td>...</td>\n",
              "      <td>...</td>\n",
              "      <td>...</td>\n",
              "      <td>...</td>\n",
              "      <td>...</td>\n",
              "      <td>...</td>\n",
              "      <td>...</td>\n",
              "      <td>...</td>\n",
              "      <td>...</td>\n",
              "      <td>...</td>\n",
              "      <td>...</td>\n",
              "    </tr>\n",
              "    <tr>\n",
              "      <th>540</th>\n",
              "      <td>1820000</td>\n",
              "      <td>3000</td>\n",
              "      <td>2</td>\n",
              "      <td>1</td>\n",
              "      <td>1</td>\n",
              "      <td>True</td>\n",
              "      <td>False</td>\n",
              "      <td>True</td>\n",
              "      <td>False</td>\n",
              "      <td>False</td>\n",
              "      <td>2</td>\n",
              "      <td>False</td>\n",
              "      <td>0</td>\n",
              "    </tr>\n",
              "    <tr>\n",
              "      <th>541</th>\n",
              "      <td>1767150</td>\n",
              "      <td>2400</td>\n",
              "      <td>3</td>\n",
              "      <td>1</td>\n",
              "      <td>1</td>\n",
              "      <td>False</td>\n",
              "      <td>False</td>\n",
              "      <td>False</td>\n",
              "      <td>False</td>\n",
              "      <td>False</td>\n",
              "      <td>0</td>\n",
              "      <td>False</td>\n",
              "      <td>1</td>\n",
              "    </tr>\n",
              "    <tr>\n",
              "      <th>542</th>\n",
              "      <td>1750000</td>\n",
              "      <td>3620</td>\n",
              "      <td>2</td>\n",
              "      <td>1</td>\n",
              "      <td>1</td>\n",
              "      <td>True</td>\n",
              "      <td>False</td>\n",
              "      <td>False</td>\n",
              "      <td>False</td>\n",
              "      <td>False</td>\n",
              "      <td>0</td>\n",
              "      <td>False</td>\n",
              "      <td>0</td>\n",
              "    </tr>\n",
              "    <tr>\n",
              "      <th>543</th>\n",
              "      <td>1750000</td>\n",
              "      <td>2910</td>\n",
              "      <td>3</td>\n",
              "      <td>1</td>\n",
              "      <td>1</td>\n",
              "      <td>False</td>\n",
              "      <td>False</td>\n",
              "      <td>False</td>\n",
              "      <td>False</td>\n",
              "      <td>False</td>\n",
              "      <td>0</td>\n",
              "      <td>False</td>\n",
              "      <td>2</td>\n",
              "    </tr>\n",
              "    <tr>\n",
              "      <th>544</th>\n",
              "      <td>1750000</td>\n",
              "      <td>3850</td>\n",
              "      <td>3</td>\n",
              "      <td>1</td>\n",
              "      <td>2</td>\n",
              "      <td>True</td>\n",
              "      <td>False</td>\n",
              "      <td>False</td>\n",
              "      <td>False</td>\n",
              "      <td>False</td>\n",
              "      <td>0</td>\n",
              "      <td>False</td>\n",
              "      <td>0</td>\n",
              "    </tr>\n",
              "  </tbody>\n",
              "</table>\n",
              "<p>545 rows × 13 columns</p>\n",
              "</div>"
            ],
            "text/plain": [
              "        price  area  bedrooms  bathrooms  stories  mainroad  guestroom  \\\n",
              "0    13300000  7420         4          2        3      True      False   \n",
              "1    12250000  8960         4          4        4      True      False   \n",
              "2    12250000  9960         3          2        2      True      False   \n",
              "3    12215000  7500         4          2        2      True      False   \n",
              "4    11410000  7420         4          1        2      True       True   \n",
              "..        ...   ...       ...        ...      ...       ...        ...   \n",
              "540   1820000  3000         2          1        1      True      False   \n",
              "541   1767150  2400         3          1        1     False      False   \n",
              "542   1750000  3620         2          1        1      True      False   \n",
              "543   1750000  2910         3          1        1     False      False   \n",
              "544   1750000  3850         3          1        2      True      False   \n",
              "\n",
              "     basement  hotwaterheating  airconditioning  parking  prefarea  \\\n",
              "0       False            False             True        2      True   \n",
              "1       False            False             True        3     False   \n",
              "2        True            False            False        2      True   \n",
              "3        True            False             True        3      True   \n",
              "4        True            False             True        2     False   \n",
              "..        ...              ...              ...      ...       ...   \n",
              "540      True            False            False        2     False   \n",
              "541     False            False            False        0     False   \n",
              "542     False            False            False        0     False   \n",
              "543     False            False            False        0     False   \n",
              "544     False            False            False        0     False   \n",
              "\n",
              "     furnishingstatus  \n",
              "0                   2  \n",
              "1                   2  \n",
              "2                   1  \n",
              "3                   2  \n",
              "4                   2  \n",
              "..                ...  \n",
              "540                 0  \n",
              "541                 1  \n",
              "542                 0  \n",
              "543                 2  \n",
              "544                 0  \n",
              "\n",
              "[545 rows x 13 columns]"
            ]
          },
          "execution_count": 4,
          "metadata": {},
          "output_type": "execute_result"
        }
      ],
      "source": [
        "# check final data\n",
        "df\n"
      ]
    },
    {
      "cell_type": "code",
      "execution_count": 5,
      "metadata": {
        "colab": {
          "base_uri": "https://localhost:8080/"
        },
        "id": "KpjoWAmjlGkQ",
        "outputId": "da0a48fc-1552-49b7-8eb3-c3811758241d"
      },
      "outputs": [
        {
          "name": "stdout",
          "output_type": "stream",
          "text": [
            "<class 'pandas.core.frame.DataFrame'>\n",
            "RangeIndex: 545 entries, 0 to 544\n",
            "Data columns (total 13 columns):\n",
            " #   Column            Non-Null Count  Dtype\n",
            "---  ------            --------------  -----\n",
            " 0   price             545 non-null    int64\n",
            " 1   area              545 non-null    int64\n",
            " 2   bedrooms          545 non-null    int64\n",
            " 3   bathrooms         545 non-null    int64\n",
            " 4   stories           545 non-null    int64\n",
            " 5   mainroad          545 non-null    bool \n",
            " 6   guestroom         545 non-null    bool \n",
            " 7   basement          545 non-null    bool \n",
            " 8   hotwaterheating   545 non-null    bool \n",
            " 9   airconditioning   545 non-null    bool \n",
            " 10  parking           545 non-null    int64\n",
            " 11  prefarea          545 non-null    bool \n",
            " 12  furnishingstatus  545 non-null    int32\n",
            "dtypes: bool(6), int32(1), int64(6)\n",
            "memory usage: 31.0 KB\n"
          ]
        }
      ],
      "source": [
        "df.info()"
      ]
    },
    {
      "cell_type": "markdown",
      "metadata": {
        "id": "9tiCkWWOXB39"
      },
      "source": [
        "# Creating model"
      ]
    },
    {
      "cell_type": "code",
      "execution_count": 6,
      "metadata": {
        "id": "llmn0qszlGna"
      },
      "outputs": [],
      "source": [
        "# prepare X and Y data\n",
        "X = df[['area', 'bedrooms', 'bathrooms', 'stories', 'mainroad',\n",
        "        'guestroom', 'basement', 'hotwaterheating', 'airconditioning',\n",
        "        'parking', 'prefarea', 'furnishingstatus'\n",
        "        ]]\n",
        "y = df.price\n",
        "\n"
      ]
    },
    {
      "cell_type": "code",
      "execution_count": 13,
      "metadata": {
        "colab": {
          "base_uri": "https://localhost:8080/"
        },
        "id": "CcI9p4XolGux",
        "outputId": "e45ce67a-5d54-484f-f055-57897782c506"
      },
      "outputs": [
        {
          "data": {
            "text/plain": [
              "0.8369459610951946"
            ]
          },
          "execution_count": 13,
          "metadata": {},
          "output_type": "execute_result"
        }
      ],
      "source": [
        "# train\n",
        "X_train, X_test, y_train, y_test = train_test_split(X, y,test_size=0.1)\n",
        "\n",
        "model = LinearRegression()\n",
        "model.fit(np.array([X_train]).reshape(-1,12), y_train)\n",
        "\n",
        "y_pred = model.predict(np.array([X_test]).reshape(-1,12))\n",
        "\n",
        "r2_score(y_test, y_pred)"
      ]
    },
    {
      "cell_type": "markdown",
      "metadata": {
        "id": "JO7SmczEWtH3"
      },
      "source": [
        "# Testing model"
      ]
    },
    {
      "cell_type": "code",
      "execution_count": 14,
      "metadata": {
        "colab": {
          "base_uri": "https://localhost:8080/"
        },
        "id": "aUsTasO1PFud",
        "outputId": "48e478b6-f9a5-4bda-8278-ce8a83c1b3da"
      },
      "outputs": [
        {
          "data": {
            "text/plain": [
              "array([3414159.81231116])"
            ]
          },
          "execution_count": 14,
          "metadata": {},
          "output_type": "execute_result"
        }
      ],
      "source": [
        "model.predict([[3000,2,1,1,1,0,1,0,0,2,0,0]])\n"
      ]
    },
    {
      "cell_type": "code",
      "execution_count": 15,
      "metadata": {
        "colab": {
          "base_uri": "https://localhost:8080/"
        },
        "id": "R0TWJsbdS9wL",
        "outputId": "166793cb-e120-4786-8243-d03a72a75e5d"
      },
      "outputs": [
        {
          "data": {
            "text/plain": [
              "array([5979743.12446187])"
            ]
          },
          "execution_count": 15,
          "metadata": {},
          "output_type": "execute_result"
        }
      ],
      "source": [
        "model.predict([[7420,4,1,2,1,1,1,0,0,2,0,2]])\n"
      ]
    }
  ],
  "metadata": {
    "colab": {
      "collapsed_sections": [],
      "name": "Python and Machine Learning Bootcamp-Housing.ipynb",
      "provenance": []
    },
    "kernelspec": {
      "display_name": "Python 3.9.9 64-bit",
      "language": "python",
      "name": "python3"
    },
    "language_info": {
      "codemirror_mode": {
        "name": "ipython",
        "version": 3
      },
      "file_extension": ".py",
      "mimetype": "text/x-python",
      "name": "python",
      "nbconvert_exporter": "python",
      "pygments_lexer": "ipython3",
      "version": "3.9.9"
    },
    "vscode": {
      "interpreter": {
        "hash": "5fe27231fe2ef1d38017a65482f94e9b5209ec85932d25724d84ecd1b3a19fa4"
      }
    }
  },
  "nbformat": 4,
  "nbformat_minor": 0
}
