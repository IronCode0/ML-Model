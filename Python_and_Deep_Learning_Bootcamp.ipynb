{
  "cells": [
    {
      "cell_type": "markdown",
      "metadata": {
        "id": "N0_Tdc-gbmwE"
      },
      "source": [
        "# Importing the libraries"
      ]
    },
    {
      "cell_type": "code",
      "execution_count": null,
      "metadata": {
        "id": "c8wuwK0Valni"
      },
      "outputs": [],
      "source": [
        "import numpy as np\n",
        "import matplotlib.pyplot as plt\n",
        "import seaborn as sns\n",
        "import tensorflow as tf\n",
        "from tensorflow import keras"
      ]
    },
    {
      "cell_type": "markdown",
      "metadata": {
        "id": "st52WCJCbq-c"
      },
      "source": [
        "# Importing the dataset"
      ]
    },
    {
      "cell_type": "code",
      "execution_count": null,
      "metadata": {
        "id": "XzTal1gCbrT7"
      },
      "outputs": [],
      "source": [
        "data = keras.datasets.cifar10"
      ]
    },
    {
      "cell_type": "code",
      "execution_count": null,
      "metadata": {
        "colab": {
          "base_uri": "https://localhost:8080/"
        },
        "id": "tESpQCdLdo--",
        "outputId": "219a1860-62a6-49b9-f08e-497d5e3e497b"
      },
      "outputs": [
        {
          "output_type": "execute_result",
          "data": {
            "text/plain": [
              "<module 'keras.api._v2.keras.datasets.cifar10' from '/usr/local/lib/python3.7/dist-packages/keras/api/_v2/keras/datasets/cifar10/__init__.py'>"
            ]
          },
          "metadata": {},
          "execution_count": 3
        }
      ],
      "source": [
        "data"
      ]
    },
    {
      "cell_type": "code",
      "execution_count": null,
      "metadata": {
        "id": "D6L0qQRUbz0R",
        "colab": {
          "base_uri": "https://localhost:8080/"
        },
        "outputId": "50e6d7c2-c622-4246-f109-4dc60296eacb"
      },
      "outputs": [
        {
          "output_type": "stream",
          "name": "stdout",
          "text": [
            "Downloading data from https://www.cs.toronto.edu/~kriz/cifar-10-python.tar.gz\n",
            "170500096/170498071 [==============================] - 2s 0us/step\n",
            "170508288/170498071 [==============================] - 2s 0us/step\n"
          ]
        }
      ],
      "source": [
        "df = data.load_data()"
      ]
    },
    {
      "cell_type": "code",
      "execution_count": null,
      "metadata": {
        "id": "I68-72u-dp_w"
      },
      "outputs": [],
      "source": [
        "df"
      ]
    },
    {
      "cell_type": "code",
      "execution_count": null,
      "metadata": {
        "id": "rK7YzZupb7eO"
      },
      "outputs": [],
      "source": [
        "(X_train, y_train),(X_test, y_test) = df"
      ]
    },
    {
      "cell_type": "code",
      "execution_count": null,
      "metadata": {
        "id": "hbQHHKjRb7JL",
        "colab": {
          "base_uri": "https://localhost:8080/"
        },
        "outputId": "a91e2665-b393-446a-fe2a-48ce99aabb94"
      },
      "outputs": [
        {
          "output_type": "execute_result",
          "data": {
            "text/plain": [
              "(50000, 32, 32, 3)"
            ]
          },
          "metadata": {},
          "execution_count": 7
        }
      ],
      "source": [
        "X_train.shape "
      ]
    },
    {
      "cell_type": "code",
      "execution_count": null,
      "metadata": {
        "id": "8KKjzG1Eb7GT",
        "colab": {
          "base_uri": "https://localhost:8080/"
        },
        "outputId": "679d84c6-68ba-4590-dada-f1175de85809"
      },
      "outputs": [
        {
          "output_type": "execute_result",
          "data": {
            "text/plain": [
              "(10000, 32, 32, 3)"
            ]
          },
          "metadata": {},
          "execution_count": 8
        }
      ],
      "source": [
        "X_test.shape "
      ]
    },
    {
      "cell_type": "code",
      "execution_count": null,
      "metadata": {
        "id": "juxrLznMb7D3"
      },
      "outputs": [],
      "source": [
        "X_train[0]"
      ]
    },
    {
      "cell_type": "code",
      "execution_count": null,
      "metadata": {
        "id": "cVJK53wXb7Ba"
      },
      "outputs": [],
      "source": [
        "plt.matshow(X_train[0])"
      ]
    },
    {
      "cell_type": "code",
      "execution_count": null,
      "metadata": {
        "id": "3mkHcZFHb6-y"
      },
      "outputs": [],
      "source": [
        "for i in range(10):\n",
        "  plt.matshow(X_train[i])"
      ]
    },
    {
      "cell_type": "code",
      "execution_count": null,
      "metadata": {
        "id": "dFBkIo18cNU_",
        "colab": {
          "base_uri": "https://localhost:8080/"
        },
        "outputId": "f5ab0abc-d252-4ba0-f6f7-86332dd0c8ae"
      },
      "outputs": [
        {
          "output_type": "execute_result",
          "data": {
            "text/plain": [
              "(10000, 1)"
            ]
          },
          "metadata": {},
          "execution_count": 12
        }
      ],
      "source": [
        "y_test.shape"
      ]
    },
    {
      "cell_type": "code",
      "execution_count": null,
      "metadata": {
        "id": "vVPZgVOscNRi",
        "colab": {
          "base_uri": "https://localhost:8080/"
        },
        "outputId": "c6e05c39-1594-409b-8b02-a5f1450efb09"
      },
      "outputs": [
        {
          "output_type": "execute_result",
          "data": {
            "text/plain": [
              "2"
            ]
          },
          "metadata": {},
          "execution_count": 13
        }
      ],
      "source": [
        "y_test.ndim"
      ]
    },
    {
      "cell_type": "code",
      "execution_count": null,
      "metadata": {
        "id": "4f1fcRCwcNPg",
        "colab": {
          "base_uri": "https://localhost:8080/"
        },
        "outputId": "640ac2c3-a1e5-49b1-b1a0-af28ca3b2dc0"
      },
      "outputs": [
        {
          "output_type": "execute_result",
          "data": {
            "text/plain": [
              "3"
            ]
          },
          "metadata": {},
          "execution_count": 29
        }
      ],
      "source": [
        "X_train[0].ndim"
      ]
    },
    {
      "cell_type": "code",
      "execution_count": null,
      "metadata": {
        "id": "Xd8LEJnacNNB"
      },
      "outputs": [],
      "source": [
        "X_train_flat = X_train.reshape(-1, 32*32*3)\n",
        "X_test_flat = X_test.reshape(-1, 32*32*3)"
      ]
    },
    {
      "cell_type": "code",
      "execution_count": null,
      "metadata": {
        "id": "bMDa6JTHcNKy",
        "colab": {
          "base_uri": "https://localhost:8080/"
        },
        "outputId": "e0ccb90f-47bc-4a52-89f1-81e9d2f4606c"
      },
      "outputs": [
        {
          "output_type": "execute_result",
          "data": {
            "text/plain": [
              "1"
            ]
          },
          "metadata": {},
          "execution_count": 32
        }
      ],
      "source": [
        "X_train_flat[0].ndim"
      ]
    },
    {
      "cell_type": "markdown",
      "metadata": {
        "id": "-gIuN7s7cUW7"
      },
      "source": [
        "# ANN Model Creation"
      ]
    },
    {
      "cell_type": "code",
      "execution_count": null,
      "metadata": {
        "id": "27i4xQCRcNIT"
      },
      "outputs": [],
      "source": [
        "from tensorflow.keras import Sequential\n",
        "from tensorflow.keras.layers import Dense"
      ]
    },
    {
      "cell_type": "code",
      "execution_count": null,
      "metadata": {
        "id": "sR20lI3Scc7J"
      },
      "outputs": [],
      "source": [
        "model = Sequential([\n",
        "                    # first Hidden Layer\n",
        "                    Dense(units=10,\n",
        "                          input_shape=(3072,),\n",
        "                          activation='sigmoid'),\n",
        "                    # second Hidden layer\n",
        "                     Dense(units=100,\n",
        "                           activation='sigmoid')\n",
        "])\n",
        "\n",
        "model.compile(\n",
        "    optimizer='adam',\n",
        "    loss='sparse_categorical_crossentropy',\n",
        "    metrics=['accuracy']\n",
        ")"
      ]
    },
    {
      "cell_type": "code",
      "execution_count": null,
      "metadata": {
        "id": "0hxVXly9ccwf",
        "colab": {
          "base_uri": "https://localhost:8080/"
        },
        "outputId": "8d938f2e-502f-4d31-c9c9-af47f3837b80"
      },
      "outputs": [
        {
          "output_type": "execute_result",
          "data": {
            "text/plain": [
              "(3072,)"
            ]
          },
          "metadata": {},
          "execution_count": 34
        }
      ],
      "source": [
        "X_train_flat[0].shape"
      ]
    },
    {
      "cell_type": "markdown",
      "metadata": {
        "id": "S2V6a_b-chzl"
      },
      "source": [
        "# Train/Fit the model"
      ]
    },
    {
      "cell_type": "code",
      "execution_count": null,
      "metadata": {
        "id": "z_cpxtjxccsn",
        "colab": {
          "base_uri": "https://localhost:8080/"
        },
        "outputId": "e8c423f7-9a2d-4294-e0e4-5081b74608e7"
      },
      "outputs": [
        {
          "output_type": "stream",
          "name": "stdout",
          "text": [
            "Epoch 1/10\n",
            "1563/1563 [==============================] - 6s 3ms/step - loss: 2.5721 - accuracy: 0.0989\n",
            "Epoch 2/10\n",
            "1563/1563 [==============================] - 5s 3ms/step - loss: 2.3160 - accuracy: 0.1001\n",
            "Epoch 3/10\n",
            "1563/1563 [==============================] - 5s 3ms/step - loss: 2.3079 - accuracy: 0.0972\n",
            "Epoch 4/10\n",
            "1563/1563 [==============================] - 5s 3ms/step - loss: 2.3053 - accuracy: 0.0998\n",
            "Epoch 5/10\n",
            "1563/1563 [==============================] - 5s 3ms/step - loss: 2.3045 - accuracy: 0.0987\n",
            "Epoch 6/10\n",
            "1563/1563 [==============================] - 5s 3ms/step - loss: 2.3040 - accuracy: 0.1012\n",
            "Epoch 7/10\n",
            "1563/1563 [==============================] - 5s 3ms/step - loss: 2.3037 - accuracy: 0.0987\n",
            "Epoch 8/10\n",
            "1563/1563 [==============================] - 5s 3ms/step - loss: 2.3036 - accuracy: 0.0977\n",
            "Epoch 9/10\n",
            "1563/1563 [==============================] - 5s 3ms/step - loss: 2.3035 - accuracy: 0.1018\n",
            "Epoch 10/10\n",
            "1563/1563 [==============================] - 5s 3ms/step - loss: 2.3035 - accuracy: 0.1010\n"
          ]
        },
        {
          "output_type": "execute_result",
          "data": {
            "text/plain": [
              "<keras.callbacks.History at 0x7f762a9c6250>"
            ]
          },
          "metadata": {},
          "execution_count": 37
        }
      ],
      "source": [
        "model.fit(X_train_flat, y_train, epochs=10)"
      ]
    },
    {
      "cell_type": "code",
      "execution_count": null,
      "metadata": {
        "id": "_AQxA09nccrQ"
      },
      "outputs": [],
      "source": [
        "y_pred = model.predict(X_test_flat)"
      ]
    },
    {
      "cell_type": "code",
      "execution_count": null,
      "metadata": {
        "id": "y-Rcv6Kwb6qT",
        "colab": {
          "base_uri": "https://localhost:8080/"
        },
        "outputId": "2249c611-179e-452b-eb18-bfa1e316f90e"
      },
      "outputs": [
        {
          "output_type": "execute_result",
          "data": {
            "text/plain": [
              "array([[9.4785482e-01, 9.4812143e-01, 9.4767541e-01, ..., 1.7640377e-05,\n",
              "        1.4795292e-05, 2.4702236e-05],\n",
              "       [9.4785482e-01, 9.4812143e-01, 9.4767541e-01, ..., 1.7640377e-05,\n",
              "        1.4795292e-05, 2.4702236e-05],\n",
              "       [9.4785482e-01, 9.4812143e-01, 9.4767541e-01, ..., 1.7640377e-05,\n",
              "        1.4795292e-05, 2.4702236e-05],\n",
              "       ...,\n",
              "       [9.4785482e-01, 9.4812143e-01, 9.4767541e-01, ..., 1.7640377e-05,\n",
              "        1.4795292e-05, 2.4702236e-05],\n",
              "       [9.4785482e-01, 9.4812143e-01, 9.4767541e-01, ..., 1.7640377e-05,\n",
              "        1.4795292e-05, 2.4702236e-05],\n",
              "       [9.4785482e-01, 9.4812143e-01, 9.4767541e-01, ..., 1.7640377e-05,\n",
              "        1.4795292e-05, 2.4702236e-05]], dtype=float32)"
            ]
          },
          "metadata": {},
          "execution_count": 39
        }
      ],
      "source": [
        "y_pred"
      ]
    },
    {
      "cell_type": "code",
      "execution_count": null,
      "metadata": {
        "id": "BsotysDpcpfl",
        "colab": {
          "base_uri": "https://localhost:8080/"
        },
        "outputId": "5be8ab8d-b34f-4760-e5a7-6fc72dd1d66e"
      },
      "outputs": [
        {
          "output_type": "execute_result",
          "data": {
            "text/plain": [
              "array([[3],\n",
              "       [8],\n",
              "       [8],\n",
              "       ...,\n",
              "       [5],\n",
              "       [1],\n",
              "       [7]], dtype=uint8)"
            ]
          },
          "metadata": {},
          "execution_count": 40
        }
      ],
      "source": [
        "y_test"
      ]
    },
    {
      "cell_type": "code",
      "execution_count": null,
      "metadata": {
        "id": "w3X55ToOcreo",
        "colab": {
          "base_uri": "https://localhost:8080/"
        },
        "outputId": "6b0c8cd5-b252-41ee-e5a0-0fc96d0c4dbb"
      },
      "outputs": [
        {
          "output_type": "stream",
          "name": "stdout",
          "text": [
            "313/313 [==============================] - 1s 2ms/step - loss: 2.3035 - accuracy: 0.1000\n"
          ]
        },
        {
          "output_type": "execute_result",
          "data": {
            "text/plain": [
              "[2.3035261631011963, 0.10000000149011612]"
            ]
          },
          "metadata": {},
          "execution_count": 41
        }
      ],
      "source": [
        "model.evaluate(X_test_flat, y_test)"
      ]
    },
    {
      "cell_type": "markdown",
      "source": [
        "https://jamboard.google.com/d/1A6W0YxIaQsD1J2nuMtrmHuhf0V4o3XrNOpzzOkj4R1Y/edit?usp=sharing\n",
        "\n",
        "https://keras.io/api/datasets/cifar10/"
      ],
      "metadata": {
        "id": "c642GxZWrFNQ"
      }
    },
    {
      "cell_type": "code",
      "source": [
        ""
      ],
      "metadata": {
        "id": "JLgvcpQwrI79"
      },
      "execution_count": null,
      "outputs": []
    }
  ],
  "metadata": {
    "colab": {
      "name": "Copy of Python and Deep Learning Bootcamp.ipynb",
      "provenance": []
    },
    "kernelspec": {
      "display_name": "Python 3",
      "name": "python3"
    },
    "language_info": {
      "name": "python"
    }
  },
  "nbformat": 4,
  "nbformat_minor": 0
}